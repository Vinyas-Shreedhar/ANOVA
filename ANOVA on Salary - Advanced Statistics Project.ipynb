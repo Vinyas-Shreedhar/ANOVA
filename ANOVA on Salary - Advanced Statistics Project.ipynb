{
 "cells": [
  {
   "cell_type": "code",
   "execution_count": 1,
   "metadata": {},
   "outputs": [],
   "source": [
    "import numpy as np\n",
    "import pandas as pd\n",
    "import seaborn as sns\n",
    "from statsmodels.formula.api import ols      # For n-way ANOVA\n",
    "from statsmodels.stats.anova import _get_covariance,anova_lm # For n-way ANOVA\n",
    "import matplotlib.pyplot as plt\n",
    "%matplotlib inline"
   ]
  },
  {
   "cell_type": "code",
   "execution_count": 2,
   "metadata": {},
   "outputs": [],
   "source": [
    "df = pd.read_excel('SalaryData.xlsx')"
   ]
  },
  {
   "cell_type": "code",
   "execution_count": 3,
   "metadata": {},
   "outputs": [
    {
     "data": {
      "text/html": [
       "<div>\n",
       "<style scoped>\n",
       "    .dataframe tbody tr th:only-of-type {\n",
       "        vertical-align: middle;\n",
       "    }\n",
       "\n",
       "    .dataframe tbody tr th {\n",
       "        vertical-align: top;\n",
       "    }\n",
       "\n",
       "    .dataframe thead th {\n",
       "        text-align: right;\n",
       "    }\n",
       "</style>\n",
       "<table border=\"1\" class=\"dataframe\">\n",
       "  <thead>\n",
       "    <tr style=\"text-align: right;\">\n",
       "      <th></th>\n",
       "      <th>Education</th>\n",
       "      <th>Occupation</th>\n",
       "      <th>Salary</th>\n",
       "    </tr>\n",
       "  </thead>\n",
       "  <tbody>\n",
       "    <tr>\n",
       "      <th>0</th>\n",
       "      <td>Doctorate</td>\n",
       "      <td>Adm-clerical</td>\n",
       "      <td>153197</td>\n",
       "    </tr>\n",
       "    <tr>\n",
       "      <th>1</th>\n",
       "      <td>Doctorate</td>\n",
       "      <td>Adm-clerical</td>\n",
       "      <td>115945</td>\n",
       "    </tr>\n",
       "    <tr>\n",
       "      <th>2</th>\n",
       "      <td>Doctorate</td>\n",
       "      <td>Adm-clerical</td>\n",
       "      <td>175935</td>\n",
       "    </tr>\n",
       "    <tr>\n",
       "      <th>3</th>\n",
       "      <td>Doctorate</td>\n",
       "      <td>Adm-clerical</td>\n",
       "      <td>220754</td>\n",
       "    </tr>\n",
       "    <tr>\n",
       "      <th>4</th>\n",
       "      <td>Doctorate</td>\n",
       "      <td>Sales</td>\n",
       "      <td>170769</td>\n",
       "    </tr>\n",
       "  </tbody>\n",
       "</table>\n",
       "</div>"
      ],
      "text/plain": [
       "    Education     Occupation  Salary\n",
       "0   Doctorate   Adm-clerical  153197\n",
       "1   Doctorate   Adm-clerical  115945\n",
       "2   Doctorate   Adm-clerical  175935\n",
       "3   Doctorate   Adm-clerical  220754\n",
       "4   Doctorate          Sales  170769"
      ]
     },
     "execution_count": 3,
     "metadata": {},
     "output_type": "execute_result"
    }
   ],
   "source": [
    "df.head()"
   ]
  },
  {
   "cell_type": "code",
   "execution_count": null,
   "metadata": {},
   "outputs": [],
   "source": []
  },
  {
   "cell_type": "code",
   "execution_count": 4,
   "metadata": {},
   "outputs": [
    {
     "name": "stdout",
     "output_type": "stream",
     "text": [
      "<class 'pandas.core.frame.DataFrame'>\n",
      "RangeIndex: 40 entries, 0 to 39\n",
      "Data columns (total 3 columns):\n",
      " #   Column      Non-Null Count  Dtype \n",
      "---  ------      --------------  ----- \n",
      " 0   Education   40 non-null     object\n",
      " 1   Occupation  40 non-null     object\n",
      " 2   Salary      40 non-null     int64 \n",
      "dtypes: int64(1), object(2)\n",
      "memory usage: 1.1+ KB\n"
     ]
    }
   ],
   "source": [
    "df.info()"
   ]
  },
  {
   "cell_type": "code",
   "execution_count": 104,
   "metadata": {},
   "outputs": [
    {
     "data": {
      "text/html": [
       "<div>\n",
       "<style scoped>\n",
       "    .dataframe tbody tr th:only-of-type {\n",
       "        vertical-align: middle;\n",
       "    }\n",
       "\n",
       "    .dataframe tbody tr th {\n",
       "        vertical-align: top;\n",
       "    }\n",
       "\n",
       "    .dataframe thead th {\n",
       "        text-align: right;\n",
       "    }\n",
       "</style>\n",
       "<table border=\"1\" class=\"dataframe\">\n",
       "  <thead>\n",
       "    <tr style=\"text-align: right;\">\n",
       "      <th></th>\n",
       "      <th>count</th>\n",
       "      <th>mean</th>\n",
       "      <th>std</th>\n",
       "      <th>min</th>\n",
       "      <th>25%</th>\n",
       "      <th>50%</th>\n",
       "      <th>75%</th>\n",
       "      <th>max</th>\n",
       "    </tr>\n",
       "  </thead>\n",
       "  <tbody>\n",
       "    <tr>\n",
       "      <th>Salary</th>\n",
       "      <td>40.0</td>\n",
       "      <td>162186.875</td>\n",
       "      <td>64860.407506</td>\n",
       "      <td>50103.0</td>\n",
       "      <td>99897.5</td>\n",
       "      <td>169100.0</td>\n",
       "      <td>214440.75</td>\n",
       "      <td>260151.0</td>\n",
       "    </tr>\n",
       "  </tbody>\n",
       "</table>\n",
       "</div>"
      ],
      "text/plain": [
       "        count        mean           std      min      25%       50%  \\\n",
       "Salary   40.0  162186.875  64860.407506  50103.0  99897.5  169100.0   \n",
       "\n",
       "              75%       max  \n",
       "Salary  214440.75  260151.0  "
      ]
     },
     "execution_count": 104,
     "metadata": {},
     "output_type": "execute_result"
    }
   ],
   "source": [
    "df.describe().T"
   ]
  },
  {
   "cell_type": "code",
   "execution_count": 105,
   "metadata": {},
   "outputs": [
    {
     "data": {
      "image/png": "[encoded data removed]",
      "text/plain": [
       "<Figure size 720x576 with 1 Axes>"
      ]
     },
     "metadata": {
      "needs_background": "light"
     },
     "output_type": "display_data"
    }
   ],
   "source": [
    "plt.figure(figsize=(10,8))\n",
    "sns.distplot(df['Salary'], color='r');"
   ]
  },
  {
   "cell_type": "code",
   "execution_count": 5,
   "metadata": {},
   "outputs": [
    {
     "data": {
      "image/png": "[encoded data removed]",
      "text/plain": [
       "<Figure size 432x288 with 1 Axes>"
      ]
     },
     "metadata": {
      "needs_background": "light"
     },
     "output_type": "display_data"
    }
   ],
   "source": [
    "sns.boxplot(x='Salary',data=df,showmeans=True);"
   ]
  },
  {
   "cell_type": "markdown",
   "metadata": {},
   "source": [
    "###### Lets test the normality using Shapiro-Wilk's test. \n",
    "###### Ho: Salary follows a normal distribution against H1: Salary does not follow a normal distribution"
   ]
  },
  {
   "cell_type": "code",
   "execution_count": 107,
   "metadata": {},
   "outputs": [],
   "source": [
    "from scipy import stats"
   ]
  },
  {
   "cell_type": "code",
   "execution_count": 108,
   "metadata": {},
   "outputs": [
    {
     "name": "stdout",
     "output_type": "stream",
     "text": [
      "W = 0.9401417970657349 p_value = 0.03496258333325386\n"
     ]
    }
   ],
   "source": [
    "# For testing of normality, Shapiro-Wilk’s test is applied\n",
    "w, p_value = stats.shapiro(df['Salary'])\n",
    "print(\"W = {}\".format(w), \"p_value = {}\".format(p_value))"
   ]
  },
  {
   "cell_type": "markdown",
   "metadata": {},
   "source": [
    "###### Since p-value is smaller than the level of significance, we reject the null hypothesis and conclude that the feature Salary does not follow a Normal Distribution."
   ]
  },
  {
   "cell_type": "code",
   "execution_count": 109,
   "metadata": {},
   "outputs": [
    {
     "data": {
      "text/plain": [
       " Doctorate    16\n",
       " Bachelors    15\n",
       " HS-grad       9\n",
       "Name: Education, dtype: int64"
      ]
     },
     "execution_count": 109,
     "metadata": {},
     "output_type": "execute_result"
    }
   ],
   "source": [
    "df['Education'].value_counts()"
   ]
  },
  {
   "cell_type": "code",
   "execution_count": null,
   "metadata": {},
   "outputs": [],
   "source": []
  },
  {
   "cell_type": "code",
   "execution_count": 110,
   "metadata": {},
   "outputs": [
    {
     "data": {
      "text/plain": [
       "Education\n",
       " Bachelors    165152.933333\n",
       " Doctorate    208427.000000\n",
       " HS-grad       75038.777778\n",
       "Name: Salary, dtype: float64"
      ]
     },
     "execution_count": 110,
     "metadata": {},
     "output_type": "execute_result"
    }
   ],
   "source": [
    "df.groupby('Education')['Salary'].mean()"
   ]
  },
  {
   "cell_type": "code",
   "execution_count": 111,
   "metadata": {},
   "outputs": [
    {
     "data": {
      "text/plain": [
       " Prof-specialty     13\n",
       " Sales              12\n",
       " Adm-clerical       10\n",
       " Exec-managerial     5\n",
       "Name: Occupation, dtype: int64"
      ]
     },
     "execution_count": 111,
     "metadata": {},
     "output_type": "execute_result"
    }
   ],
   "source": [
    "df['Occupation'].value_counts()"
   ]
  },
  {
   "cell_type": "code",
   "execution_count": 112,
   "metadata": {},
   "outputs": [
    {
     "data": {
      "text/plain": [
       "Occupation\n",
       " Adm-clerical       141424.300000\n",
       " Exec-managerial    197117.600000\n",
       " Prof-specialty     168953.153846\n",
       " Sales              157604.416667\n",
       "Name: Salary, dtype: float64"
      ]
     },
     "execution_count": 112,
     "metadata": {},
     "output_type": "execute_result"
    }
   ],
   "source": [
    "df.groupby('Occupation')['Salary'].mean()"
   ]
  },
  {
   "cell_type": "markdown",
   "metadata": {},
   "source": [
    "##### 1.1 State the null and the alternate hypothesis for conducting one-way ANOVA for both Education and Occupation individually."
   ]
  },
  {
   "cell_type": "markdown",
   "metadata": {},
   "source": [
    "###### Null Hypothesis - Ho: Mean Salary across Education levels are same\n",
    "###### Alternative Hypothesis - H1 : Mean Salary for atleast one of the Education levels are different\n",
    "\n",
    "###### Null Hypothesis - Ho: Mean Salary across Occupation levels are same.\n",
    "###### Alternative Hypothesis - H1: Mean Salary for at least one of the Occupation levels are different.\n"
   ]
  },
  {
   "cell_type": "markdown",
   "metadata": {},
   "source": [
    "##### 1.2. Perform a one-way ANOVA on Salary with respect to Education. State whether the null hypothesis is accepted or rejected based on the ANOVA results."
   ]
  },
  {
   "cell_type": "code",
   "execution_count": 113,
   "metadata": {},
   "outputs": [
    {
     "data": {
      "image/png": "[encoded data removed]",
      "text/plain": [
       "<Figure size 720x576 with 1 Axes>"
      ]
     },
     "metadata": {
      "needs_background": "light"
     },
     "output_type": "display_data"
    }
   ],
   "source": [
    "plt.figure(figsize=(10,8))\n",
    "sns.boxplot(x='Education',y='Salary',data=df);\n",
    "plt.title('Distribution of Education Levels on Salary');"
   ]
  },
  {
   "cell_type": "code",
   "execution_count": 114,
   "metadata": {},
   "outputs": [],
   "source": [
    "from statsmodels.formula.api import ols      # For n-way ANOVA\n",
    "from statsmodels.stats.anova import _get_covariance,anova_lm # For n-way ANOVA"
   ]
  },
  {
   "cell_type": "code",
   "execution_count": 115,
   "metadata": {
    "scrolled": true
   },
   "outputs": [
    {
     "data": {
      "text/html": [
       "<div>\n",
       "<style scoped>\n",
       "    .dataframe tbody tr th:only-of-type {\n",
       "        vertical-align: middle;\n",
       "    }\n",
       "\n",
       "    .dataframe tbody tr th {\n",
       "        vertical-align: top;\n",
       "    }\n",
       "\n",
       "    .dataframe thead th {\n",
       "        text-align: right;\n",
       "    }\n",
       "</style>\n",
       "<table border=\"1\" class=\"dataframe\">\n",
       "  <thead>\n",
       "    <tr style=\"text-align: right;\">\n",
       "      <th></th>\n",
       "      <th>df</th>\n",
       "      <th>sum_sq</th>\n",
       "      <th>mean_sq</th>\n",
       "      <th>F</th>\n",
       "      <th>PR(&gt;F)</th>\n",
       "    </tr>\n",
       "  </thead>\n",
       "  <tbody>\n",
       "    <tr>\n",
       "      <th>Education</th>\n",
       "      <td>2.0</td>\n",
       "      <td>1.026955e+11</td>\n",
       "      <td>5.134773e+10</td>\n",
       "      <td>30.95628</td>\n",
       "      <td>1.257709e-08</td>\n",
       "    </tr>\n",
       "    <tr>\n",
       "      <th>Residual</th>\n",
       "      <td>37.0</td>\n",
       "      <td>6.137256e+10</td>\n",
       "      <td>1.658718e+09</td>\n",
       "      <td>NaN</td>\n",
       "      <td>NaN</td>\n",
       "    </tr>\n",
       "  </tbody>\n",
       "</table>\n",
       "</div>"
      ],
      "text/plain": [
       "             df        sum_sq       mean_sq         F        PR(>F)\n",
       "Education   2.0  1.026955e+11  5.134773e+10  30.95628  1.257709e-08\n",
       "Residual   37.0  6.137256e+10  1.658718e+09       NaN           NaN"
      ]
     },
     "execution_count": 115,
     "metadata": {},
     "output_type": "execute_result"
    }
   ],
   "source": [
    "formula = 'Salary~Education'\n",
    "model = ols(formula,df).fit()\n",
    "anova_table1 = anova_lm(model)\n",
    "anova_table1"
   ]
  },
  {
   "cell_type": "code",
   "execution_count": 116,
   "metadata": {},
   "outputs": [
    {
     "data": {
      "text/plain": [
       "1.2577090926629106e-08"
      ]
     },
     "execution_count": 116,
     "metadata": {},
     "output_type": "execute_result"
    }
   ],
   "source": [
    "pvalue = anova_table1['PR(>F)'][0]\n",
    "pvalue"
   ]
  },
  {
   "cell_type": "code",
   "execution_count": 117,
   "metadata": {},
   "outputs": [],
   "source": [
    "alpha = 0.05"
   ]
  },
  {
   "cell_type": "code",
   "execution_count": 118,
   "metadata": {},
   "outputs": [
    {
     "data": {
      "text/plain": [
       "True"
      ]
     },
     "execution_count": 118,
     "metadata": {},
     "output_type": "execute_result"
    }
   ],
   "source": [
    "pvalue < alpha"
   ]
  },
  {
   "cell_type": "markdown",
   "metadata": {},
   "source": [
    "###### pvalue = 1.2577090926629106e-08 which is less than the level of significance alpha (0.05). Hence we reject the null hypothesis and conclude that the mean Salary across Education levels are not same. "
   ]
  },
  {
   "cell_type": "markdown",
   "metadata": {},
   "source": [
    "##### 1.3. Perform a one-way ANOVA on Salary with respect to Occupation. State whether the null hypothesis is accepted or rejected based on the ANOVA results."
   ]
  },
  {
   "cell_type": "markdown",
   "metadata": {},
   "source": [
    "###### Null Hypothesis - Ho : Mean Salary across Occupation levels are same. \n",
    "###### Alternative Hypothesis - H1 : Mean Salary for atleast one of the Occupation levels are different."
   ]
  },
  {
   "cell_type": "code",
   "execution_count": 119,
   "metadata": {},
   "outputs": [
    {
     "data": {
      "image/png": "[encoded data removed]",
      "text/plain": [
       "<Figure size 720x576 with 1 Axes>"
      ]
     },
     "metadata": {
      "needs_background": "light"
     },
     "output_type": "display_data"
    }
   ],
   "source": [
    "plt.figure(figsize=(10,8))\n",
    "sns.boxplot(x='Occupation',y='Salary',data=df);\n",
    "plt.title('Distribution of Occupation Levels on Salary');"
   ]
  },
  {
   "cell_type": "code",
   "execution_count": 120,
   "metadata": {},
   "outputs": [
    {
     "data": {
      "text/html": [
       "<div>\n",
       "<style scoped>\n",
       "    .dataframe tbody tr th:only-of-type {\n",
       "        vertical-align: middle;\n",
       "    }\n",
       "\n",
       "    .dataframe tbody tr th {\n",
       "        vertical-align: top;\n",
       "    }\n",
       "\n",
       "    .dataframe thead th {\n",
       "        text-align: right;\n",
       "    }\n",
       "</style>\n",
       "<table border=\"1\" class=\"dataframe\">\n",
       "  <thead>\n",
       "    <tr style=\"text-align: right;\">\n",
       "      <th></th>\n",
       "      <th>df</th>\n",
       "      <th>sum_sq</th>\n",
       "      <th>mean_sq</th>\n",
       "      <th>F</th>\n",
       "      <th>PR(&gt;F)</th>\n",
       "    </tr>\n",
       "  </thead>\n",
       "  <tbody>\n",
       "    <tr>\n",
       "      <th>Occupation</th>\n",
       "      <td>3.0</td>\n",
       "      <td>1.125878e+10</td>\n",
       "      <td>3.752928e+09</td>\n",
       "      <td>0.884144</td>\n",
       "      <td>0.458508</td>\n",
       "    </tr>\n",
       "    <tr>\n",
       "      <th>Residual</th>\n",
       "      <td>36.0</td>\n",
       "      <td>1.528092e+11</td>\n",
       "      <td>4.244701e+09</td>\n",
       "      <td>NaN</td>\n",
       "      <td>NaN</td>\n",
       "    </tr>\n",
       "  </tbody>\n",
       "</table>\n",
       "</div>"
      ],
      "text/plain": [
       "              df        sum_sq       mean_sq         F    PR(>F)\n",
       "Occupation   3.0  1.125878e+10  3.752928e+09  0.884144  0.458508\n",
       "Residual    36.0  1.528092e+11  4.244701e+09       NaN       NaN"
      ]
     },
     "execution_count": 120,
     "metadata": {},
     "output_type": "execute_result"
    }
   ],
   "source": [
    "formula = 'Salary~Occupation'\n",
    "model = ols(formula,df).fit()\n",
    "anova_table2 = anova_lm(model)\n",
    "anova_table2"
   ]
  },
  {
   "cell_type": "code",
   "execution_count": 121,
   "metadata": {},
   "outputs": [
    {
     "data": {
      "text/plain": [
       "0.4585078266495116"
      ]
     },
     "execution_count": 121,
     "metadata": {},
     "output_type": "execute_result"
    }
   ],
   "source": [
    "pvalue = anova_table2['PR(>F)'][0]\n",
    "pvalue"
   ]
  },
  {
   "cell_type": "code",
   "execution_count": 122,
   "metadata": {},
   "outputs": [],
   "source": [
    "alpha = 0.05"
   ]
  },
  {
   "cell_type": "code",
   "execution_count": 123,
   "metadata": {
    "scrolled": true
   },
   "outputs": [
    {
     "data": {
      "text/plain": [
       "True"
      ]
     },
     "execution_count": 123,
     "metadata": {},
     "output_type": "execute_result"
    }
   ],
   "source": [
    "pvalue > alpha"
   ]
  },
  {
   "cell_type": "markdown",
   "metadata": {},
   "source": [
    "###### pvalue = 0.4585078266495116 which is greater than the level of significance alpha (0.05). Hence we accept the Null Hypothesis to conclude that Mean Salary across Occupation levels are same. "
   ]
  },
  {
   "cell_type": "markdown",
   "metadata": {},
   "source": [
    "##### 1.4 If the null hypothesis is rejected in either (1.2) or in (1.3), find out which class means are significantly different. Interpret the result."
   ]
  },
  {
   "cell_type": "code",
   "execution_count": 149,
   "metadata": {},
   "outputs": [],
   "source": [
    "from statsmodels.stats.multicomp import (pairwise_tukeyhsd,MultiComparison)"
   ]
  },
  {
   "cell_type": "code",
   "execution_count": 150,
   "metadata": {},
   "outputs": [
    {
     "name": "stdout",
     "output_type": "stream",
     "text": [
      "           Multiple Comparison of Means - Tukey HSD, FWER=0.05           \n",
      "=========================================================================\n",
      "  group1     group2     meandiff   p-adj     lower        upper    reject\n",
      "-------------------------------------------------------------------------\n",
      " Bachelors  Doctorate   43274.0667 0.0146    7541.1439  79006.9894   True\n",
      " Bachelors    HS-grad  -90114.1556  0.001 -132035.1958 -48193.1153   True\n",
      " Doctorate    HS-grad -133388.2222  0.001 -174815.0876 -91961.3569   True\n",
      "-------------------------------------------------------------------------\n"
     ]
    }
   ],
   "source": [
    "mod1 = MultiComparison(df['Salary'],df['Education'])\n",
    "print(mod1.tukeyhsd().summary())"
   ]
  },
  {
   "cell_type": "code",
   "execution_count": 151,
   "metadata": {},
   "outputs": [
    {
     "data": {
      "image/png": "[encoded data removed]",
      "text/plain": [
       "<Figure size 576x504 with 1 Axes>"
      ]
     },
     "metadata": {
      "needs_background": "light"
     },
     "output_type": "display_data"
    }
   ],
   "source": [
    "results = mod1.tukeyhsd()\n",
    "df1=results.summary()\n",
    "results_as_html = df1.as_html()\n",
    "df1=pd.read_html(results_as_html, header=0, index_col=0)[0].reset_index(\n",
    ")\n",
    "groups = np.array([df1.group1+ '-'+ df1.group2])\n",
    "plt.figure(figsize=(8,7))\n",
    "data_dict = {}\n",
    "data_dict['object'] = groups.ravel()\n",
    "data_dict['lower'] = results.confint[:,0]\n",
    "data_dict['upper'] = results.confint[:,1]\n",
    "dataset = pd.DataFrame(data_dict)\n",
    "for lower,upper,y in zip(dataset['lower'],dataset['upper'],range(len(dataset))):\n",
    "    plt.plot((lower,upper),(y,y),'ro-',color='orange')\n",
    "    plt.yticks(range(len(dataset)),list(dataset['object']));"
   ]
  },
  {
   "cell_type": "markdown",
   "metadata": {},
   "source": [
    "###### P-value is significant for comparing Salary mean levels for the pairs Bachelors-Doctorate, Bachelors-HS-grad and Doctorate-HS-grad. The null hypothesis of equality of all population means is rejected. It is now clear that mean Salary for Bachelors-HS-grad and Doctorate-HS-grad is similar but mean salary for Baechelors-Doctorate is significantly different from these two. "
   ]
  },
  {
   "cell_type": "code",
   "execution_count": 152,
   "metadata": {},
   "outputs": [
    {
     "name": "stdout",
     "output_type": "stream",
     "text": [
      "                Multiple Comparison of Means - Tukey HSD, FWER=0.05                 \n",
      "====================================================================================\n",
      "     group1           group2        meandiff  p-adj     lower        upper    reject\n",
      "------------------------------------------------------------------------------------\n",
      "    Adm-clerical  Exec-managerial     55693.3 0.4146  -40415.1459 151801.7459  False\n",
      "    Adm-clerical   Prof-specialty  27528.8538 0.7252  -46277.4011 101335.1088  False\n",
      "    Adm-clerical            Sales  16180.1167    0.9  -58951.3115  91311.5449  False\n",
      " Exec-managerial   Prof-specialty -28164.4462 0.8263 -120502.4542  64173.5618  False\n",
      " Exec-managerial            Sales -39513.1833 0.6507 -132913.8041  53887.4374  False\n",
      "  Prof-specialty            Sales -11348.7372    0.9  -81592.6398  58895.1655  False\n",
      "------------------------------------------------------------------------------------\n"
     ]
    }
   ],
   "source": [
    "mod2 = MultiComparison(df['Salary'],df['Occupation'])\n",
    "print(mod2.tukeyhsd().summary())"
   ]
  },
  {
   "cell_type": "code",
   "execution_count": 153,
   "metadata": {},
   "outputs": [
    {
     "data": {
      "image/png": "[encoded data removed]",
      "text/plain": [
       "<Figure size 576x504 with 1 Axes>"
      ]
     },
     "metadata": {
      "needs_background": "light"
     },
     "output_type": "display_data"
    }
   ],
   "source": [
    "results = mod2.tukeyhsd()\n",
    "df2=results.summary()\n",
    "results_as_html = df2.as_html()\n",
    "df2=pd.read_html(results_as_html, header=0, index_col=0)[0].reset_index(\n",
    ")\n",
    "groups = np.array([df2.group1+ '-'+ df2.group2])\n",
    "plt.figure(figsize=(8,7))\n",
    "data_dict = {}\n",
    "data_dict['object'] = groups.ravel()\n",
    "data_dict['lower'] = results.confint[:,0]\n",
    "data_dict['upper'] = results.confint[:,1]\n",
    "dataset = pd.DataFrame(data_dict)\n",
    "for lower,upper,y in zip(dataset['lower'],dataset['upper'],range(len(dataset))):\n",
    "    plt.plot((lower,upper),(y,y),'ro-',color='orange')\n",
    "    plt.yticks(range(len(dataset)),list(dataset['object']));"
   ]
  },
  {
   "cell_type": "markdown",
   "metadata": {},
   "source": [
    "###### P-value for difference in means between Adm-clerical and Exec-managerial is 0.4146\n",
    "###### P-value for difference in means between Adm-clerical and Prof-specialty is 0.7252\n",
    "###### P-value for difference in means between Adm-clerical and Sales is 0.9\n",
    "###### P-value for difference in means between Exec-managerial and Prof-specialty is 0.8263\n",
    "###### P-value for difference in means between Exec-managerial and Sales is 0.6507\n",
    "###### P-value for difference in means between Prof-specialty and Sales is 0.9\n",
    "\n",
    "###### Since the P-value is greater than the level of significance 0.05 we can thus conclude that there is no significant difference in the mean for the above occupation level groups. \n"
   ]
  },
  {
   "cell_type": "markdown",
   "metadata": {},
   "source": [
    "##### 1.5 What is the interaction between the two treatments? Analyze the effects of one variable on the other (Education and Occupation) with the help of an interaction plot."
   ]
  },
  {
   "cell_type": "code",
   "execution_count": 128,
   "metadata": {},
   "outputs": [
    {
     "data": {
      "image/png": "[encoded data removed]",
      "text/plain": [
       "<Figure size 720x576 with 1 Axes>"
      ]
     },
     "metadata": {
      "needs_background": "light"
     },
     "output_type": "display_data"
    }
   ],
   "source": [
    "plt.figure(figsize=(10,8))\n",
    "sns.pointplot(x='Education', y='Salary', data=df, hue='Occupation',ci=None);\n",
    "plt.title('Interaction between Education and Occupation on Salary');\n",
    "plt.xlabel('Education Levels')\n",
    "plt.ylabel('Salary')\n",
    "plt.show()"
   ]
  },
  {
   "cell_type": "markdown",
   "metadata": {},
   "source": [
    "###### There is significant impact between Education and Occupation with respect to Salary. As we can see there is an increase in the salary from HS-Grad to Bachelors Education and there is a further increase in Salary from Bachelors Education to Doctorate. \n",
    "###### Among Doctorates, Prof-specialty has the highest salary  which is close to 2,50,000 whereas among HS-Grad, Sales has the lowest salary which is close to 50,000. Exec-Managerial and Sales intersect at the same point for Bachelors Education at around 2,00,000. "
   ]
  },
  {
   "cell_type": "markdown",
   "metadata": {},
   "source": [
    "##### 1.6 Perform a two-way ANOVA based on the Education and Occupation (along with their interaction Education*Occupation) with the variable ‘Salary’. State the null and alternative hypotheses and state your results. How will you interpret this result?"
   ]
  },
  {
   "cell_type": "markdown",
   "metadata": {},
   "source": [
    "###### Null Hypothesis - Ho : Mean Salary across Occupation and Education levels are same.\n",
    "###### Alternative Hypothesis - H1 : Mean Salary for atleast one Occupation and Education level are not same. "
   ]
  },
  {
   "cell_type": "code",
   "execution_count": 129,
   "metadata": {},
   "outputs": [
    {
     "data": {
      "text/html": [
       "<div>\n",
       "<style scoped>\n",
       "    .dataframe tbody tr th:only-of-type {\n",
       "        vertical-align: middle;\n",
       "    }\n",
       "\n",
       "    .dataframe tbody tr th {\n",
       "        vertical-align: top;\n",
       "    }\n",
       "\n",
       "    .dataframe thead th {\n",
       "        text-align: right;\n",
       "    }\n",
       "</style>\n",
       "<table border=\"1\" class=\"dataframe\">\n",
       "  <thead>\n",
       "    <tr style=\"text-align: right;\">\n",
       "      <th></th>\n",
       "      <th>df</th>\n",
       "      <th>sum_sq</th>\n",
       "      <th>mean_sq</th>\n",
       "      <th>F</th>\n",
       "      <th>PR(&gt;F)</th>\n",
       "    </tr>\n",
       "  </thead>\n",
       "  <tbody>\n",
       "    <tr>\n",
       "      <th>Education</th>\n",
       "      <td>2.0</td>\n",
       "      <td>1.026955e+11</td>\n",
       "      <td>5.134773e+10</td>\n",
       "      <td>31.257677</td>\n",
       "      <td>1.981539e-08</td>\n",
       "    </tr>\n",
       "    <tr>\n",
       "      <th>Occupation</th>\n",
       "      <td>3.0</td>\n",
       "      <td>5.519946e+09</td>\n",
       "      <td>1.839982e+09</td>\n",
       "      <td>1.120080</td>\n",
       "      <td>3.545825e-01</td>\n",
       "    </tr>\n",
       "    <tr>\n",
       "      <th>Residual</th>\n",
       "      <td>34.0</td>\n",
       "      <td>5.585261e+10</td>\n",
       "      <td>1.642724e+09</td>\n",
       "      <td>NaN</td>\n",
       "      <td>NaN</td>\n",
       "    </tr>\n",
       "  </tbody>\n",
       "</table>\n",
       "</div>"
      ],
      "text/plain": [
       "              df        sum_sq       mean_sq          F        PR(>F)\n",
       "Education    2.0  1.026955e+11  5.134773e+10  31.257677  1.981539e-08\n",
       "Occupation   3.0  5.519946e+09  1.839982e+09   1.120080  3.545825e-01\n",
       "Residual    34.0  5.585261e+10  1.642724e+09        NaN           NaN"
      ]
     },
     "execution_count": 129,
     "metadata": {},
     "output_type": "execute_result"
    }
   ],
   "source": [
    "formula = 'Salary~Education+Occupation'\n",
    "model = ols(formula,df).fit()\n",
    "anova_table3 = anova_lm(model)\n",
    "anova_table3"
   ]
  },
  {
   "cell_type": "code",
   "execution_count": 130,
   "metadata": {},
   "outputs": [],
   "source": [
    "pvalue_Education = anova_table3['PR(>F)'][0]\n",
    "pvalue_Occupation = anova_table3['PR(>F)'][1]"
   ]
  },
  {
   "cell_type": "code",
   "execution_count": 131,
   "metadata": {},
   "outputs": [
    {
     "data": {
      "text/plain": [
       "1.9815392541413873e-08"
      ]
     },
     "execution_count": 131,
     "metadata": {},
     "output_type": "execute_result"
    }
   ],
   "source": [
    "pvalue_Education"
   ]
  },
  {
   "cell_type": "code",
   "execution_count": 132,
   "metadata": {},
   "outputs": [
    {
     "data": {
      "text/plain": [
       "0.3545824933162919"
      ]
     },
     "execution_count": 132,
     "metadata": {},
     "output_type": "execute_result"
    }
   ],
   "source": [
    "pvalue_Occupation"
   ]
  },
  {
   "cell_type": "code",
   "execution_count": 133,
   "metadata": {},
   "outputs": [],
   "source": [
    "alpha = 0.05"
   ]
  },
  {
   "cell_type": "code",
   "execution_count": 134,
   "metadata": {},
   "outputs": [
    {
     "data": {
      "text/plain": [
       "True"
      ]
     },
     "execution_count": 134,
     "metadata": {},
     "output_type": "execute_result"
    }
   ],
   "source": [
    "pvalue_Education < alpha"
   ]
  },
  {
   "cell_type": "code",
   "execution_count": 135,
   "metadata": {},
   "outputs": [
    {
     "data": {
      "text/plain": [
       "False"
      ]
     },
     "execution_count": 135,
     "metadata": {},
     "output_type": "execute_result"
    }
   ],
   "source": [
    "pvalue_Occupation < alpha"
   ]
  },
  {
   "cell_type": "markdown",
   "metadata": {},
   "source": [
    "###### Since there is interaction between Education and Occupation on Salary, lets introduce a new term while performing Two Way Anova."
   ]
  },
  {
   "cell_type": "code",
   "execution_count": 136,
   "metadata": {},
   "outputs": [
    {
     "data": {
      "image/png": "[encoded data removed]",
      "text/plain": [
       "<Figure size 720x576 with 1 Axes>"
      ]
     },
     "metadata": {
      "needs_background": "light"
     },
     "output_type": "display_data"
    }
   ],
   "source": [
    "plt.figure(figsize=(10,8))\n",
    "sns.pointplot(x='Education', y='Salary', data=df, hue='Occupation',ci=None);"
   ]
  },
  {
   "cell_type": "code",
   "execution_count": 137,
   "metadata": {},
   "outputs": [
    {
     "data": {
      "text/html": [
       "<div>\n",
       "<style scoped>\n",
       "    .dataframe tbody tr th:only-of-type {\n",
       "        vertical-align: middle;\n",
       "    }\n",
       "\n",
       "    .dataframe tbody tr th {\n",
       "        vertical-align: top;\n",
       "    }\n",
       "\n",
       "    .dataframe thead th {\n",
       "        text-align: right;\n",
       "    }\n",
       "</style>\n",
       "<table border=\"1\" class=\"dataframe\">\n",
       "  <thead>\n",
       "    <tr style=\"text-align: right;\">\n",
       "      <th></th>\n",
       "      <th>df</th>\n",
       "      <th>sum_sq</th>\n",
       "      <th>mean_sq</th>\n",
       "      <th>F</th>\n",
       "      <th>PR(&gt;F)</th>\n",
       "    </tr>\n",
       "  </thead>\n",
       "  <tbody>\n",
       "    <tr>\n",
       "      <th>Education</th>\n",
       "      <td>2.0</td>\n",
       "      <td>1.026955e+11</td>\n",
       "      <td>5.134773e+10</td>\n",
       "      <td>72.211958</td>\n",
       "      <td>5.466264e-12</td>\n",
       "    </tr>\n",
       "    <tr>\n",
       "      <th>Occupation</th>\n",
       "      <td>3.0</td>\n",
       "      <td>5.519946e+09</td>\n",
       "      <td>1.839982e+09</td>\n",
       "      <td>2.587626</td>\n",
       "      <td>7.211580e-02</td>\n",
       "    </tr>\n",
       "    <tr>\n",
       "      <th>Education:Occupation</th>\n",
       "      <td>6.0</td>\n",
       "      <td>3.634909e+10</td>\n",
       "      <td>6.058182e+09</td>\n",
       "      <td>8.519815</td>\n",
       "      <td>2.232500e-05</td>\n",
       "    </tr>\n",
       "    <tr>\n",
       "      <th>Residual</th>\n",
       "      <td>29.0</td>\n",
       "      <td>2.062102e+10</td>\n",
       "      <td>7.110697e+08</td>\n",
       "      <td>NaN</td>\n",
       "      <td>NaN</td>\n",
       "    </tr>\n",
       "  </tbody>\n",
       "</table>\n",
       "</div>"
      ],
      "text/plain": [
       "                        df        sum_sq       mean_sq          F  \\\n",
       "Education              2.0  1.026955e+11  5.134773e+10  72.211958   \n",
       "Occupation             3.0  5.519946e+09  1.839982e+09   2.587626   \n",
       "Education:Occupation   6.0  3.634909e+10  6.058182e+09   8.519815   \n",
       "Residual              29.0  2.062102e+10  7.110697e+08        NaN   \n",
       "\n",
       "                            PR(>F)  \n",
       "Education             5.466264e-12  \n",
       "Occupation            7.211580e-02  \n",
       "Education:Occupation  2.232500e-05  \n",
       "Residual                       NaN  "
      ]
     },
     "execution_count": 137,
     "metadata": {},
     "output_type": "execute_result"
    }
   ],
   "source": [
    "formula = 'Salary ~ Education + Occupation + Education:Occupation'\n",
    "model = ols(formula,df).fit()\n",
    "anova_table4 = anova_lm(model)\n",
    "anova_table4"
   ]
  },
  {
   "cell_type": "code",
   "execution_count": 138,
   "metadata": {},
   "outputs": [
    {
     "data": {
      "text/plain": [
       "True"
      ]
     },
     "execution_count": 138,
     "metadata": {},
     "output_type": "execute_result"
    }
   ],
   "source": [
    "anova_table4['PR(>F)'][0] < 0.05"
   ]
  },
  {
   "cell_type": "code",
   "execution_count": 139,
   "metadata": {},
   "outputs": [
    {
     "data": {
      "text/plain": [
       "False"
      ]
     },
     "execution_count": 139,
     "metadata": {},
     "output_type": "execute_result"
    }
   ],
   "source": [
    "anova_table4['PR(>F)'][1] < 0.05"
   ]
  },
  {
   "cell_type": "code",
   "execution_count": 140,
   "metadata": {},
   "outputs": [
    {
     "data": {
      "text/plain": [
       "True"
      ]
     },
     "execution_count": 140,
     "metadata": {},
     "output_type": "execute_result"
    }
   ],
   "source": [
    "anova_table4['PR(>F)'][2] < 0.05"
   ]
  },
  {
   "cell_type": "markdown",
   "metadata": {},
   "source": [
    "###### Due to the inclusion of the interaction effect term, we can see a slight change in the p-value of the first two treatments as compared to the Two-Way ANOVA without the interaction effect terms. And we see that the p-value of the interaction effect term of 'Education:Occupation' is less than the level of significance (0.05) which suggests that the we reject the Null Hypothesis in this case."
   ]
  },
  {
   "cell_type": "markdown",
   "metadata": {},
   "source": [
    "#### 1.7 Explain the business implications of performing ANOVA for this particular case study."
   ]
  },
  {
   "cell_type": "markdown",
   "metadata": {},
   "source": [
    "###### CONCLUSION: It is observed that the variation in Salary is significantly impacted by different Education and Occupation levels along with their interaction effect. ANOVA helps to understand which independent factor (Education & Occupation) can explain the variation in the Salary. "
   ]
  },
  {
   "cell_type": "markdown",
   "metadata": {},
   "source": [
    "                                                    **THANK YOU**"
   ]
  }
 ],
 "metadata": {
  "kernelspec": {
   "display_name": "Python 3",
   "language": "python",
   "name": "python3"
  },
  "language_info": {
   "codemirror_mode": {
    "name": "ipython",
    "version": 3
   },
   "file_extension": ".py",
   "mimetype": "text/x-python",
   "name": "python",
   "nbconvert_exporter": "python",
   "pygments_lexer": "ipython3",
   "version": "3.8.5"
  }
 },
 "nbformat": 4,
 "nbformat_minor": 4
}
